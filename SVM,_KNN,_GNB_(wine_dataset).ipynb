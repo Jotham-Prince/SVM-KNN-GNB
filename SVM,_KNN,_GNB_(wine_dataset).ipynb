{
  "nbformat": 4,
  "nbformat_minor": 0,
  "metadata": {
    "colab": {
      "provenance": []
    },
    "kernelspec": {
      "name": "python3",
      "display_name": "Python 3"
    },
    "language_info": {
      "name": "python"
    }
  },
  "cells": [
    {
      "cell_type": "markdown",
      "source": [
        "Muwanga Sudaice\t\t\t        2100712763\n",
        "\n",
        "Beheram Zena\t\t\t\t        2100713518\n",
        "\n",
        "Mukwaya Shawn Mels\t\t      2100723354\n",
        "\n",
        "Mukisa Jotham Prince\t\t    2100708970\n",
        "\n",
        "Wantante Fortune Semeon\t    2100712262"
      ],
      "metadata": {
        "id": "458cz32VrVgM"
      }
    },
    {
      "cell_type": "markdown",
      "source": [
        "#**Suport Vector Machine, K Nearest Neighbors and Gaussian Naive bayes Classifer on The Wine Dataset using Scikitlearn**"
      ],
      "metadata": {
        "id": "RYSpC1VWWZfO"
      }
    },
    {
      "cell_type": "markdown",
      "source": [
        "## **1. Loading the Dataset and Data Visualization**"
      ],
      "metadata": {
        "id": "LuSkcQcY15j0"
      }
    },
    {
      "cell_type": "markdown",
      "source": [
        "\n",
        "\n",
        "---\n",
        "\n"
      ],
      "metadata": {
        "id": "uVymlEYDt9_r"
      }
    },
    {
      "cell_type": "markdown",
      "source": [
        "Load the wine dataset from sklearn using **\"from sklearn.datasets import load_wine\"** into the notebook. \n",
        "\n",
        "Since the dataset is in a csv format, we **import pandas as pd**\n",
        "\n",
        "The **\"load_wine()\"** method allows us to use the wine dataset and we give it a name **\"wine\"** "
      ],
      "metadata": {
        "id": "FU7bLpF7WQ1q"
      }
    },
    {
      "cell_type": "code",
      "source": [
        "import pandas as pd\n",
        "from sklearn.datasets import load_wine\n",
        "wine = load_wine()"
      ],
      "metadata": {
        "id": "o80H1DUBWNtz"
      },
      "execution_count": 1,
      "outputs": []
    },
    {
      "cell_type": "markdown",
      "source": [
        "\n",
        "\n",
        "---\n",
        "\n"
      ],
      "metadata": {
        "id": "GlqbfPK-t38Q"
      }
    },
    {
      "cell_type": "markdown",
      "source": [
        "To see the 13 attributes in the dataset we use **\"wine.feature_names\"**"
      ],
      "metadata": {
        "id": "QZKfGZX1obRq"
      }
    },
    {
      "cell_type": "code",
      "source": [
        "wine.feature_names"
      ],
      "metadata": {
        "id": "4y1V8j4TL8pj",
        "colab": {
          "base_uri": "https://localhost:8080/"
        },
        "outputId": "893bc761-cb61-417a-fbbf-356f32ef0d18"
      },
      "execution_count": 2,
      "outputs": [
        {
          "output_type": "execute_result",
          "data": {
            "text/plain": [
              "['alcohol',\n",
              " 'malic_acid',\n",
              " 'ash',\n",
              " 'alcalinity_of_ash',\n",
              " 'magnesium',\n",
              " 'total_phenols',\n",
              " 'flavanoids',\n",
              " 'nonflavanoid_phenols',\n",
              " 'proanthocyanins',\n",
              " 'color_intensity',\n",
              " 'hue',\n",
              " 'od280/od315_of_diluted_wines',\n",
              " 'proline']"
            ]
          },
          "metadata": {},
          "execution_count": 2
        }
      ]
    },
    {
      "cell_type": "markdown",
      "source": [
        "\n",
        "\n",
        "---\n",
        "\n"
      ],
      "metadata": {
        "id": "2ymjGVqQt2K-"
      }
    },
    {
      "cell_type": "markdown",
      "source": [
        "For our clasification problem, we are classifying the data into 3 classes which are;\n",
        "1. **'class_0'**\n",
        "2. **'class_1'**\n",
        "3. **'class_2'**\n",
        "\n",
        "To see these class name, we use **\"wine.target_name\"**"
      ],
      "metadata": {
        "id": "5Jh2_M0YoxnE"
      }
    },
    {
      "cell_type": "code",
      "source": [
        "wine.target_names"
      ],
      "metadata": {
        "colab": {
          "base_uri": "https://localhost:8080/"
        },
        "id": "Y3Za0bEDMAbk",
        "outputId": "5ddba490-f472-4d1a-a5bb-7a2a9ee0dc11"
      },
      "execution_count": 3,
      "outputs": [
        {
          "output_type": "execute_result",
          "data": {
            "text/plain": [
              "array(['class_0', 'class_1', 'class_2'], dtype='<U7')"
            ]
          },
          "metadata": {},
          "execution_count": 3
        }
      ]
    },
    {
      "cell_type": "markdown",
      "source": [
        "\n",
        "\n",
        "---\n",
        "\n"
      ],
      "metadata": {
        "id": "93Ke2PvntzSX"
      }
    },
    {
      "cell_type": "markdown",
      "source": [
        "We create a new pandas Dataframe(**df**) that will be assigned to our wine dataset and with **\"pd.DataFrame(wine.data, columns = wine.feature_names)\"**, the DataFrame will have 13 columns that are the different attributes of the dataset.\n",
        "\n",
        "**\"df.head()\"** prints the first 5 cloumns of the DataFrame "
      ],
      "metadata": {
        "id": "2gYec01YpZe0"
      }
    },
    {
      "cell_type": "code",
      "source": [
        "df = pd.DataFrame(wine.data, columns = wine.feature_names)\n",
        "\n",
        "df.head()"
      ],
      "metadata": {
        "id": "cKj-bZWVMBWz",
        "colab": {
          "base_uri": "https://localhost:8080/",
          "height": 270
        },
        "outputId": "8899f0db-01f2-43cf-faa5-ff2a93725329"
      },
      "execution_count": 5,
      "outputs": [
        {
          "output_type": "execute_result",
          "data": {
            "text/plain": [
              "   alcohol  malic_acid   ash  alcalinity_of_ash  magnesium  total_phenols  \\\n",
              "0    14.23        1.71  2.43               15.6      127.0           2.80   \n",
              "1    13.20        1.78  2.14               11.2      100.0           2.65   \n",
              "2    13.16        2.36  2.67               18.6      101.0           2.80   \n",
              "3    14.37        1.95  2.50               16.8      113.0           3.85   \n",
              "4    13.24        2.59  2.87               21.0      118.0           2.80   \n",
              "\n",
              "   flavanoids  nonflavanoid_phenols  proanthocyanins  color_intensity   hue  \\\n",
              "0        3.06                  0.28             2.29             5.64  1.04   \n",
              "1        2.76                  0.26             1.28             4.38  1.05   \n",
              "2        3.24                  0.30             2.81             5.68  1.03   \n",
              "3        3.49                  0.24             2.18             7.80  0.86   \n",
              "4        2.69                  0.39             1.82             4.32  1.04   \n",
              "\n",
              "   od280/od315_of_diluted_wines  proline  \n",
              "0                          3.92   1065.0  \n",
              "1                          3.40   1050.0  \n",
              "2                          3.17   1185.0  \n",
              "3                          3.45   1480.0  \n",
              "4                          2.93    735.0  "
            ],
            "text/html": [
              "\n",
              "  <div id=\"df-8dbaff17-f04b-493b-b15c-7e1ff665b094\">\n",
              "    <div class=\"colab-df-container\">\n",
              "      <div>\n",
              "<style scoped>\n",
              "    .dataframe tbody tr th:only-of-type {\n",
              "        vertical-align: middle;\n",
              "    }\n",
              "\n",
              "    .dataframe tbody tr th {\n",
              "        vertical-align: top;\n",
              "    }\n",
              "\n",
              "    .dataframe thead th {\n",
              "        text-align: right;\n",
              "    }\n",
              "</style>\n",
              "<table border=\"1\" class=\"dataframe\">\n",
              "  <thead>\n",
              "    <tr style=\"text-align: right;\">\n",
              "      <th></th>\n",
              "      <th>alcohol</th>\n",
              "      <th>malic_acid</th>\n",
              "      <th>ash</th>\n",
              "      <th>alcalinity_of_ash</th>\n",
              "      <th>magnesium</th>\n",
              "      <th>total_phenols</th>\n",
              "      <th>flavanoids</th>\n",
              "      <th>nonflavanoid_phenols</th>\n",
              "      <th>proanthocyanins</th>\n",
              "      <th>color_intensity</th>\n",
              "      <th>hue</th>\n",
              "      <th>od280/od315_of_diluted_wines</th>\n",
              "      <th>proline</th>\n",
              "    </tr>\n",
              "  </thead>\n",
              "  <tbody>\n",
              "    <tr>\n",
              "      <th>0</th>\n",
              "      <td>14.23</td>\n",
              "      <td>1.71</td>\n",
              "      <td>2.43</td>\n",
              "      <td>15.6</td>\n",
              "      <td>127.0</td>\n",
              "      <td>2.80</td>\n",
              "      <td>3.06</td>\n",
              "      <td>0.28</td>\n",
              "      <td>2.29</td>\n",
              "      <td>5.64</td>\n",
              "      <td>1.04</td>\n",
              "      <td>3.92</td>\n",
              "      <td>1065.0</td>\n",
              "    </tr>\n",
              "    <tr>\n",
              "      <th>1</th>\n",
              "      <td>13.20</td>\n",
              "      <td>1.78</td>\n",
              "      <td>2.14</td>\n",
              "      <td>11.2</td>\n",
              "      <td>100.0</td>\n",
              "      <td>2.65</td>\n",
              "      <td>2.76</td>\n",
              "      <td>0.26</td>\n",
              "      <td>1.28</td>\n",
              "      <td>4.38</td>\n",
              "      <td>1.05</td>\n",
              "      <td>3.40</td>\n",
              "      <td>1050.0</td>\n",
              "    </tr>\n",
              "    <tr>\n",
              "      <th>2</th>\n",
              "      <td>13.16</td>\n",
              "      <td>2.36</td>\n",
              "      <td>2.67</td>\n",
              "      <td>18.6</td>\n",
              "      <td>101.0</td>\n",
              "      <td>2.80</td>\n",
              "      <td>3.24</td>\n",
              "      <td>0.30</td>\n",
              "      <td>2.81</td>\n",
              "      <td>5.68</td>\n",
              "      <td>1.03</td>\n",
              "      <td>3.17</td>\n",
              "      <td>1185.0</td>\n",
              "    </tr>\n",
              "    <tr>\n",
              "      <th>3</th>\n",
              "      <td>14.37</td>\n",
              "      <td>1.95</td>\n",
              "      <td>2.50</td>\n",
              "      <td>16.8</td>\n",
              "      <td>113.0</td>\n",
              "      <td>3.85</td>\n",
              "      <td>3.49</td>\n",
              "      <td>0.24</td>\n",
              "      <td>2.18</td>\n",
              "      <td>7.80</td>\n",
              "      <td>0.86</td>\n",
              "      <td>3.45</td>\n",
              "      <td>1480.0</td>\n",
              "    </tr>\n",
              "    <tr>\n",
              "      <th>4</th>\n",
              "      <td>13.24</td>\n",
              "      <td>2.59</td>\n",
              "      <td>2.87</td>\n",
              "      <td>21.0</td>\n",
              "      <td>118.0</td>\n",
              "      <td>2.80</td>\n",
              "      <td>2.69</td>\n",
              "      <td>0.39</td>\n",
              "      <td>1.82</td>\n",
              "      <td>4.32</td>\n",
              "      <td>1.04</td>\n",
              "      <td>2.93</td>\n",
              "      <td>735.0</td>\n",
              "    </tr>\n",
              "  </tbody>\n",
              "</table>\n",
              "</div>\n",
              "      <button class=\"colab-df-convert\" onclick=\"convertToInteractive('df-8dbaff17-f04b-493b-b15c-7e1ff665b094')\"\n",
              "              title=\"Convert this dataframe to an interactive table.\"\n",
              "              style=\"display:none;\">\n",
              "        \n",
              "  <svg xmlns=\"http://www.w3.org/2000/svg\" height=\"24px\"viewBox=\"0 0 24 24\"\n",
              "       width=\"24px\">\n",
              "    <path d=\"M0 0h24v24H0V0z\" fill=\"none\"/>\n",
              "    <path d=\"M18.56 5.44l.94 2.06.94-2.06 2.06-.94-2.06-.94-.94-2.06-.94 2.06-2.06.94zm-11 1L8.5 8.5l.94-2.06 2.06-.94-2.06-.94L8.5 2.5l-.94 2.06-2.06.94zm10 10l.94 2.06.94-2.06 2.06-.94-2.06-.94-.94-2.06-.94 2.06-2.06.94z\"/><path d=\"M17.41 7.96l-1.37-1.37c-.4-.4-.92-.59-1.43-.59-.52 0-1.04.2-1.43.59L10.3 9.45l-7.72 7.72c-.78.78-.78 2.05 0 2.83L4 21.41c.39.39.9.59 1.41.59.51 0 1.02-.2 1.41-.59l7.78-7.78 2.81-2.81c.8-.78.8-2.07 0-2.86zM5.41 20L4 18.59l7.72-7.72 1.47 1.35L5.41 20z\"/>\n",
              "  </svg>\n",
              "      </button>\n",
              "      \n",
              "  <style>\n",
              "    .colab-df-container {\n",
              "      display:flex;\n",
              "      flex-wrap:wrap;\n",
              "      gap: 12px;\n",
              "    }\n",
              "\n",
              "    .colab-df-convert {\n",
              "      background-color: #E8F0FE;\n",
              "      border: none;\n",
              "      border-radius: 50%;\n",
              "      cursor: pointer;\n",
              "      display: none;\n",
              "      fill: #1967D2;\n",
              "      height: 32px;\n",
              "      padding: 0 0 0 0;\n",
              "      width: 32px;\n",
              "    }\n",
              "\n",
              "    .colab-df-convert:hover {\n",
              "      background-color: #E2EBFA;\n",
              "      box-shadow: 0px 1px 2px rgba(60, 64, 67, 0.3), 0px 1px 3px 1px rgba(60, 64, 67, 0.15);\n",
              "      fill: #174EA6;\n",
              "    }\n",
              "\n",
              "    [theme=dark] .colab-df-convert {\n",
              "      background-color: #3B4455;\n",
              "      fill: #D2E3FC;\n",
              "    }\n",
              "\n",
              "    [theme=dark] .colab-df-convert:hover {\n",
              "      background-color: #434B5C;\n",
              "      box-shadow: 0px 1px 3px 1px rgba(0, 0, 0, 0.15);\n",
              "      filter: drop-shadow(0px 1px 2px rgba(0, 0, 0, 0.3));\n",
              "      fill: #FFFFFF;\n",
              "    }\n",
              "  </style>\n",
              "\n",
              "      <script>\n",
              "        const buttonEl =\n",
              "          document.querySelector('#df-8dbaff17-f04b-493b-b15c-7e1ff665b094 button.colab-df-convert');\n",
              "        buttonEl.style.display =\n",
              "          google.colab.kernel.accessAllowed ? 'block' : 'none';\n",
              "\n",
              "        async function convertToInteractive(key) {\n",
              "          const element = document.querySelector('#df-8dbaff17-f04b-493b-b15c-7e1ff665b094');\n",
              "          const dataTable =\n",
              "            await google.colab.kernel.invokeFunction('convertToInteractive',\n",
              "                                                     [key], {});\n",
              "          if (!dataTable) return;\n",
              "\n",
              "          const docLinkHtml = 'Like what you see? Visit the ' +\n",
              "            '<a target=\"_blank\" href=https://colab.research.google.com/notebooks/data_table.ipynb>data table notebook</a>'\n",
              "            + ' to learn more about interactive tables.';\n",
              "          element.innerHTML = '';\n",
              "          dataTable['output_type'] = 'display_data';\n",
              "          await google.colab.output.renderOutput(dataTable, element);\n",
              "          const docLink = document.createElement('div');\n",
              "          docLink.innerHTML = docLinkHtml;\n",
              "          element.appendChild(docLink);\n",
              "        }\n",
              "      </script>\n",
              "    </div>\n",
              "  </div>\n",
              "  "
            ]
          },
          "metadata": {},
          "execution_count": 5
        }
      ]
    },
    {
      "cell_type": "markdown",
      "source": [
        "\n",
        "\n",
        "---\n",
        "\n"
      ],
      "metadata": {
        "id": "3jQRoZDctxtj"
      }
    },
    {
      "cell_type": "markdown",
      "source": [
        "To know the size of the DataFrame, we use **\"df.shape()\"** method that shows how many rows(instances[178]) and columns(attributes[13]) are there."
      ],
      "metadata": {
        "id": "uJkQQOhtqdRj"
      }
    },
    {
      "cell_type": "code",
      "source": [
        "df.shape"
      ],
      "metadata": {
        "colab": {
          "base_uri": "https://localhost:8080/"
        },
        "id": "CVmsjrJpMEOQ",
        "outputId": "284c305e-a293-4fd0-d054-fefe30a5a1e8"
      },
      "execution_count": 6,
      "outputs": [
        {
          "output_type": "execute_result",
          "data": {
            "text/plain": [
              "(178, 13)"
            ]
          },
          "metadata": {},
          "execution_count": 6
        }
      ]
    },
    {
      "cell_type": "markdown",
      "source": [
        "\n",
        "\n",
        "---\n",
        "\n"
      ],
      "metadata": {
        "id": "sO8lNAu7tqrp"
      }
    },
    {
      "cell_type": "markdown",
      "source": [
        "**\"df['target'] = wine.target\"** assigns the target variable from the wine dataset to a new column named **'target'** in the DataFrame and we print the first 5 rows"
      ],
      "metadata": {
        "id": "80kuH3kttJ6G"
      }
    },
    {
      "cell_type": "code",
      "source": [
        "df['target'] = wine.target\n",
        "\n",
        "df.head()"
      ],
      "metadata": {
        "id": "LScgj17CMG12",
        "colab": {
          "base_uri": "https://localhost:8080/",
          "height": 270
        },
        "outputId": "2c360c50-0036-40dd-dd08-9b1d2beb4f5d"
      },
      "execution_count": 7,
      "outputs": [
        {
          "output_type": "execute_result",
          "data": {
            "text/plain": [
              "   alcohol  malic_acid   ash  alcalinity_of_ash  magnesium  total_phenols  \\\n",
              "0    14.23        1.71  2.43               15.6      127.0           2.80   \n",
              "1    13.20        1.78  2.14               11.2      100.0           2.65   \n",
              "2    13.16        2.36  2.67               18.6      101.0           2.80   \n",
              "3    14.37        1.95  2.50               16.8      113.0           3.85   \n",
              "4    13.24        2.59  2.87               21.0      118.0           2.80   \n",
              "\n",
              "   flavanoids  nonflavanoid_phenols  proanthocyanins  color_intensity   hue  \\\n",
              "0        3.06                  0.28             2.29             5.64  1.04   \n",
              "1        2.76                  0.26             1.28             4.38  1.05   \n",
              "2        3.24                  0.30             2.81             5.68  1.03   \n",
              "3        3.49                  0.24             2.18             7.80  0.86   \n",
              "4        2.69                  0.39             1.82             4.32  1.04   \n",
              "\n",
              "   od280/od315_of_diluted_wines  proline  target  \n",
              "0                          3.92   1065.0       0  \n",
              "1                          3.40   1050.0       0  \n",
              "2                          3.17   1185.0       0  \n",
              "3                          3.45   1480.0       0  \n",
              "4                          2.93    735.0       0  "
            ],
            "text/html": [
              "\n",
              "  <div id=\"df-67e0c5ab-7ddd-4932-8184-4ba44ee6a1f9\">\n",
              "    <div class=\"colab-df-container\">\n",
              "      <div>\n",
              "<style scoped>\n",
              "    .dataframe tbody tr th:only-of-type {\n",
              "        vertical-align: middle;\n",
              "    }\n",
              "\n",
              "    .dataframe tbody tr th {\n",
              "        vertical-align: top;\n",
              "    }\n",
              "\n",
              "    .dataframe thead th {\n",
              "        text-align: right;\n",
              "    }\n",
              "</style>\n",
              "<table border=\"1\" class=\"dataframe\">\n",
              "  <thead>\n",
              "    <tr style=\"text-align: right;\">\n",
              "      <th></th>\n",
              "      <th>alcohol</th>\n",
              "      <th>malic_acid</th>\n",
              "      <th>ash</th>\n",
              "      <th>alcalinity_of_ash</th>\n",
              "      <th>magnesium</th>\n",
              "      <th>total_phenols</th>\n",
              "      <th>flavanoids</th>\n",
              "      <th>nonflavanoid_phenols</th>\n",
              "      <th>proanthocyanins</th>\n",
              "      <th>color_intensity</th>\n",
              "      <th>hue</th>\n",
              "      <th>od280/od315_of_diluted_wines</th>\n",
              "      <th>proline</th>\n",
              "      <th>target</th>\n",
              "    </tr>\n",
              "  </thead>\n",
              "  <tbody>\n",
              "    <tr>\n",
              "      <th>0</th>\n",
              "      <td>14.23</td>\n",
              "      <td>1.71</td>\n",
              "      <td>2.43</td>\n",
              "      <td>15.6</td>\n",
              "      <td>127.0</td>\n",
              "      <td>2.80</td>\n",
              "      <td>3.06</td>\n",
              "      <td>0.28</td>\n",
              "      <td>2.29</td>\n",
              "      <td>5.64</td>\n",
              "      <td>1.04</td>\n",
              "      <td>3.92</td>\n",
              "      <td>1065.0</td>\n",
              "      <td>0</td>\n",
              "    </tr>\n",
              "    <tr>\n",
              "      <th>1</th>\n",
              "      <td>13.20</td>\n",
              "      <td>1.78</td>\n",
              "      <td>2.14</td>\n",
              "      <td>11.2</td>\n",
              "      <td>100.0</td>\n",
              "      <td>2.65</td>\n",
              "      <td>2.76</td>\n",
              "      <td>0.26</td>\n",
              "      <td>1.28</td>\n",
              "      <td>4.38</td>\n",
              "      <td>1.05</td>\n",
              "      <td>3.40</td>\n",
              "      <td>1050.0</td>\n",
              "      <td>0</td>\n",
              "    </tr>\n",
              "    <tr>\n",
              "      <th>2</th>\n",
              "      <td>13.16</td>\n",
              "      <td>2.36</td>\n",
              "      <td>2.67</td>\n",
              "      <td>18.6</td>\n",
              "      <td>101.0</td>\n",
              "      <td>2.80</td>\n",
              "      <td>3.24</td>\n",
              "      <td>0.30</td>\n",
              "      <td>2.81</td>\n",
              "      <td>5.68</td>\n",
              "      <td>1.03</td>\n",
              "      <td>3.17</td>\n",
              "      <td>1185.0</td>\n",
              "      <td>0</td>\n",
              "    </tr>\n",
              "    <tr>\n",
              "      <th>3</th>\n",
              "      <td>14.37</td>\n",
              "      <td>1.95</td>\n",
              "      <td>2.50</td>\n",
              "      <td>16.8</td>\n",
              "      <td>113.0</td>\n",
              "      <td>3.85</td>\n",
              "      <td>3.49</td>\n",
              "      <td>0.24</td>\n",
              "      <td>2.18</td>\n",
              "      <td>7.80</td>\n",
              "      <td>0.86</td>\n",
              "      <td>3.45</td>\n",
              "      <td>1480.0</td>\n",
              "      <td>0</td>\n",
              "    </tr>\n",
              "    <tr>\n",
              "      <th>4</th>\n",
              "      <td>13.24</td>\n",
              "      <td>2.59</td>\n",
              "      <td>2.87</td>\n",
              "      <td>21.0</td>\n",
              "      <td>118.0</td>\n",
              "      <td>2.80</td>\n",
              "      <td>2.69</td>\n",
              "      <td>0.39</td>\n",
              "      <td>1.82</td>\n",
              "      <td>4.32</td>\n",
              "      <td>1.04</td>\n",
              "      <td>2.93</td>\n",
              "      <td>735.0</td>\n",
              "      <td>0</td>\n",
              "    </tr>\n",
              "  </tbody>\n",
              "</table>\n",
              "</div>\n",
              "      <button class=\"colab-df-convert\" onclick=\"convertToInteractive('df-67e0c5ab-7ddd-4932-8184-4ba44ee6a1f9')\"\n",
              "              title=\"Convert this dataframe to an interactive table.\"\n",
              "              style=\"display:none;\">\n",
              "        \n",
              "  <svg xmlns=\"http://www.w3.org/2000/svg\" height=\"24px\"viewBox=\"0 0 24 24\"\n",
              "       width=\"24px\">\n",
              "    <path d=\"M0 0h24v24H0V0z\" fill=\"none\"/>\n",
              "    <path d=\"M18.56 5.44l.94 2.06.94-2.06 2.06-.94-2.06-.94-.94-2.06-.94 2.06-2.06.94zm-11 1L8.5 8.5l.94-2.06 2.06-.94-2.06-.94L8.5 2.5l-.94 2.06-2.06.94zm10 10l.94 2.06.94-2.06 2.06-.94-2.06-.94-.94-2.06-.94 2.06-2.06.94z\"/><path d=\"M17.41 7.96l-1.37-1.37c-.4-.4-.92-.59-1.43-.59-.52 0-1.04.2-1.43.59L10.3 9.45l-7.72 7.72c-.78.78-.78 2.05 0 2.83L4 21.41c.39.39.9.59 1.41.59.51 0 1.02-.2 1.41-.59l7.78-7.78 2.81-2.81c.8-.78.8-2.07 0-2.86zM5.41 20L4 18.59l7.72-7.72 1.47 1.35L5.41 20z\"/>\n",
              "  </svg>\n",
              "      </button>\n",
              "      \n",
              "  <style>\n",
              "    .colab-df-container {\n",
              "      display:flex;\n",
              "      flex-wrap:wrap;\n",
              "      gap: 12px;\n",
              "    }\n",
              "\n",
              "    .colab-df-convert {\n",
              "      background-color: #E8F0FE;\n",
              "      border: none;\n",
              "      border-radius: 50%;\n",
              "      cursor: pointer;\n",
              "      display: none;\n",
              "      fill: #1967D2;\n",
              "      height: 32px;\n",
              "      padding: 0 0 0 0;\n",
              "      width: 32px;\n",
              "    }\n",
              "\n",
              "    .colab-df-convert:hover {\n",
              "      background-color: #E2EBFA;\n",
              "      box-shadow: 0px 1px 2px rgba(60, 64, 67, 0.3), 0px 1px 3px 1px rgba(60, 64, 67, 0.15);\n",
              "      fill: #174EA6;\n",
              "    }\n",
              "\n",
              "    [theme=dark] .colab-df-convert {\n",
              "      background-color: #3B4455;\n",
              "      fill: #D2E3FC;\n",
              "    }\n",
              "\n",
              "    [theme=dark] .colab-df-convert:hover {\n",
              "      background-color: #434B5C;\n",
              "      box-shadow: 0px 1px 3px 1px rgba(0, 0, 0, 0.15);\n",
              "      filter: drop-shadow(0px 1px 2px rgba(0, 0, 0, 0.3));\n",
              "      fill: #FFFFFF;\n",
              "    }\n",
              "  </style>\n",
              "\n",
              "      <script>\n",
              "        const buttonEl =\n",
              "          document.querySelector('#df-67e0c5ab-7ddd-4932-8184-4ba44ee6a1f9 button.colab-df-convert');\n",
              "        buttonEl.style.display =\n",
              "          google.colab.kernel.accessAllowed ? 'block' : 'none';\n",
              "\n",
              "        async function convertToInteractive(key) {\n",
              "          const element = document.querySelector('#df-67e0c5ab-7ddd-4932-8184-4ba44ee6a1f9');\n",
              "          const dataTable =\n",
              "            await google.colab.kernel.invokeFunction('convertToInteractive',\n",
              "                                                     [key], {});\n",
              "          if (!dataTable) return;\n",
              "\n",
              "          const docLinkHtml = 'Like what you see? Visit the ' +\n",
              "            '<a target=\"_blank\" href=https://colab.research.google.com/notebooks/data_table.ipynb>data table notebook</a>'\n",
              "            + ' to learn more about interactive tables.';\n",
              "          element.innerHTML = '';\n",
              "          dataTable['output_type'] = 'display_data';\n",
              "          await google.colab.output.renderOutput(dataTable, element);\n",
              "          const docLink = document.createElement('div');\n",
              "          docLink.innerHTML = docLinkHtml;\n",
              "          element.appendChild(docLink);\n",
              "        }\n",
              "      </script>\n",
              "    </div>\n",
              "  </div>\n",
              "  "
            ]
          },
          "metadata": {},
          "execution_count": 7
        }
      ]
    },
    {
      "cell_type": "markdown",
      "source": [
        "\n",
        "\n",
        "---\n",
        "\n"
      ],
      "metadata": {
        "id": "JU1UJFIzuTk7"
      }
    },
    {
      "cell_type": "markdown",
      "source": [
        "**\"df[df.target == 0].head()\"** prints the first 5 rows for all the data in the DataFrame that below to Class_0\n",
        "\n",
        "**\"head()\"** method is used to show the beginning of a DataFrame "
      ],
      "metadata": {
        "id": "MEwOoRbIuQ5G"
      }
    },
    {
      "cell_type": "code",
      "source": [
        "df[df.target == 0].head()"
      ],
      "metadata": {
        "id": "TDOU7r030dlM"
      },
      "execution_count": null,
      "outputs": []
    },
    {
      "cell_type": "markdown",
      "source": [
        "\n",
        "\n",
        "---\n",
        "\n"
      ],
      "metadata": {
        "id": "tpBK3--eutAs"
      }
    },
    {
      "cell_type": "markdown",
      "source": [
        "**\"df[df.target == 0].tail()\"** prints the last 5 rows for all the data in the DataFrame that below to Class_0\n",
        "\n",
        "**\"tail()\"** method is used to show the end of a DataFrame "
      ],
      "metadata": {
        "id": "KGR8bXe-usta"
      }
    },
    {
      "cell_type": "code",
      "source": [
        "df[df.target == 0].tail()"
      ],
      "metadata": {
        "id": "tMfveDdq01PH"
      },
      "execution_count": null,
      "outputs": []
    },
    {
      "cell_type": "markdown",
      "source": [
        "\n",
        "\n",
        "---\n",
        "\n"
      ],
      "metadata": {
        "id": "o72yIo0LvcNm"
      }
    },
    {
      "cell_type": "markdown",
      "source": [
        "**\"df[df.target == 1].head()\"** prints the first 5 rows for all the data in the DataFrame that below to Class_1"
      ],
      "metadata": {
        "id": "H49JR0JPvb_m"
      }
    },
    {
      "cell_type": "code",
      "source": [
        "df[df.target == 1].head()"
      ],
      "metadata": {
        "id": "xkE-j4GhMJfY"
      },
      "execution_count": null,
      "outputs": []
    },
    {
      "cell_type": "markdown",
      "source": [
        "\n",
        "\n",
        "---\n",
        "\n"
      ],
      "metadata": {
        "id": "q3KABKluvlt2"
      }
    },
    {
      "cell_type": "markdown",
      "source": [
        "**\"df[df.target == 2].head()\"** prints the first 5 rows for all the data in the DataFrame that below to Class_2"
      ],
      "metadata": {
        "id": "Rb7D69F_vlXu"
      }
    },
    {
      "cell_type": "code",
      "source": [
        "df[df.target == 2].head()"
      ],
      "metadata": {
        "id": "gPRxZ_w3MMOM"
      },
      "execution_count": null,
      "outputs": []
    },
    {
      "cell_type": "markdown",
      "source": [
        "\n",
        "\n",
        "---\n",
        "\n"
      ],
      "metadata": {
        "id": "f35FI4F8vss5"
      }
    },
    {
      "cell_type": "markdown",
      "source": [
        "We create three separate DataFrames **\"df0, df1, and df2,\"** by filtering the original DataFrame based on the values in the **'target'** column. \n",
        "\n",
        "**\"df0 = df[df.target==0]\"** df0 will have all values that belong to Class_0.\n",
        "\n",
        "**\"df0 = df[df.target==1]\"** df1 will have all values that belong to Class_1.\n",
        "\n",
        "**\"df0 = df[df.target==2]\"** df2 will have all values that belong to Class_2."
      ],
      "metadata": {
        "id": "7p3kWz2Bvsdl"
      }
    },
    {
      "cell_type": "code",
      "source": [
        "df0 = df[df.target==0]\n",
        "df1 = df[df.target==1]\n",
        "df2 = df[df.target==2]"
      ],
      "metadata": {
        "id": "Ei5kVDJNMQnv"
      },
      "execution_count": 8,
      "outputs": []
    },
    {
      "cell_type": "markdown",
      "source": [
        "\n",
        "\n",
        "---\n",
        "\n"
      ],
      "metadata": {
        "id": "oXzydm1Cw5x-"
      }
    },
    {
      "cell_type": "markdown",
      "source": [
        "**\"import matplotlib.pyplot as plt\"** this imports the **pyplot** module from the matplotlib library and uses **\"%matplotlib inline\"** to enable the inline display of plots in the notebook."
      ],
      "metadata": {
        "id": "MrSLC6ZWw5bk"
      }
    },
    {
      "cell_type": "code",
      "source": [
        "import matplotlib.pyplot as plt\n",
        "%matplotlib inline"
      ],
      "metadata": {
        "id": "JeJkwj1XMQtW"
      },
      "execution_count": 9,
      "outputs": []
    },
    {
      "cell_type": "markdown",
      "source": [
        "\n",
        "\n",
        "---\n",
        "\n"
      ],
      "metadata": {
        "id": "KC4O8I-pyRWq"
      }
    },
    {
      "cell_type": "markdown",
      "source": [
        "**\"plt\"** is used to plot in different graphs but in this case **\"plt.scatter\"** plots scatter diagrams.\n",
        "\n",
        "**\"plt.scatter(df0['alcohol'], df0['flavanoids'], color='blue', label='0', marker='.')\"** plots a scatter diagram using the **'alcohol'** and **'flavanoids'** columns from df0 with blue markers in the shape of **\".\"**. \n",
        "\n",
        "**\"plt.scatter(df1['alcohol'], df1['flavanoids'], color='red', label='1', marker='x')\"** plots a scatter diagram using the **'alcohol'** and **'flavanoids'** columns from df0 with red markers in the shape of **\"x\"**. \n",
        "\n",
        "**\"plt.xlabel('alcohol')\"** labels the x-axis as **\"alcohol\"** and\n",
        "**\"plt.ylabel('flavanoids')\"** labels the y-axis as **\"flavanoids\"**"
      ],
      "metadata": {
        "id": "BNibY4EqyRGb"
      }
    },
    {
      "cell_type": "code",
      "source": [
        "plt.scatter(df0['alcohol'], df0['flavanoids'], color='blue', label='0', marker='.')\n",
        "plt.scatter(df1['alcohol'], df1['flavanoids'], color='red', label='1', marker='x')\n",
        "\n",
        "plt.xlabel('alcohol')\n",
        "plt.ylabel('flavanoids')"
      ],
      "metadata": {
        "id": "08AIKM2wMUdg",
        "colab": {
          "base_uri": "https://localhost:8080/",
          "height": 466
        },
        "outputId": "3d7bdc5d-303e-4e95-c7be-30abbcb3422b"
      },
      "execution_count": 10,
      "outputs": [
        {
          "output_type": "execute_result",
          "data": {
            "text/plain": [
              "Text(0, 0.5, 'flavanoids')"
            ]
          },
          "metadata": {},
          "execution_count": 10
        },
        {
          "output_type": "display_data",
          "data": {
            "text/plain": [
              "<Figure size 640x480 with 1 Axes>"
            ],
            "image/png": "[encoded data removed]"
          },
          "metadata": {}
        }
      ]
    },
    {
      "cell_type": "markdown",
      "source": [
        "\n",
        "\n",
        "---\n",
        "\n"
      ],
      "metadata": {
        "id": "Vv5pPv7G05V4"
      }
    },
    {
      "cell_type": "markdown",
      "source": [
        "**\"plt.scatter(df0['color_intensity'], df0['hue'], color='blue', label='0', marker='.')\"** plots a scatter diagram using the **'color_intensity'** and **'hue'** columns from df0 with blue markers in the shape of **\".\"**. \n",
        "\n",
        "**\"plt.scatter(df1['color_intensity'], df1['hue'], color='red', label='1', marker='x')\"** plots a scatter diagram using the **'color_intensity'** and **'hue'** columns from df0 with red markers in the shape of **\"x\"**. \n",
        "\n",
        "**\"plt.xlabel('color_intensity')\"** labels the x-axis as **\"color_intensity\"** and\n",
        "**\"plt.ylabel('hue')\"** labels the y-axis as **\"hue\"**"
      ],
      "metadata": {
        "id": "jv8KTAvE048H"
      }
    },
    {
      "cell_type": "code",
      "source": [
        "plt.scatter(df0['color_intensity'], df0['hue'], color='blue', label='0', marker='.')\n",
        "plt.scatter(df1['color_intensity'], df1['hue'], color='red', label='1', marker='x')\n",
        "\n",
        "plt.xlabel('color_intensity')\n",
        "plt.ylabel('hue')"
      ],
      "metadata": {
        "id": "xYJgOMmnMUqB",
        "colab": {
          "base_uri": "https://localhost:8080/",
          "height": 467
        },
        "outputId": "02e83317-f723-48df-8c36-e6335e74423d"
      },
      "execution_count": 11,
      "outputs": [
        {
          "output_type": "execute_result",
          "data": {
            "text/plain": [
              "Text(0, 0.5, 'hue')"
            ]
          },
          "metadata": {},
          "execution_count": 11
        },
        {
          "output_type": "display_data",
          "data": {
            "text/plain": [
              "<Figure size 640x480 with 1 Axes>"
            ],
            "image/png": "[encoded data removed]"
          },
          "metadata": {}
        }
      ]
    },
    {
      "cell_type": "markdown",
      "source": [
        "\n",
        "\n",
        "---\n",
        "\n"
      ],
      "metadata": {
        "id": "ta9Jy_QR2gl6"
      }
    },
    {
      "cell_type": "markdown",
      "source": [
        "\n",
        "\n",
        "---\n",
        "\n"
      ],
      "metadata": {
        "id": "0UL4D4Q94EFc"
      }
    },
    {
      "cell_type": "markdown",
      "source": [
        "## **2. Using the Suport Vector Machine Model**"
      ],
      "metadata": {
        "id": "hqQZVqab2gK6"
      }
    },
    {
      "cell_type": "markdown",
      "source": [
        "**\"from sklearn.model_selection import train_test_split\"** imports the train_test_split function from the **\"sklearn.model_selection\"** module.\n",
        "\n",
        " The **\"train_test_split\"** function is used to split a dataset into training and testing subsets and it randomly partitions the data into two or more sets, that are used for the purpose of training a model on one set and evaluating its performance on the other."
      ],
      "metadata": {
        "id": "WwsgyBY73pjc"
      }
    },
    {
      "cell_type": "code",
      "source": [
        "from sklearn.model_selection import train_test_split"
      ],
      "metadata": {
        "id": "AIqIO6BQNSxp"
      },
      "execution_count": 12,
      "outputs": []
    },
    {
      "cell_type": "markdown",
      "source": [
        "\n",
        "\n",
        "---\n",
        "\n"
      ],
      "metadata": {
        "id": "g2aRSLJF29LH"
      }
    },
    {
      "cell_type": "markdown",
      "source": [
        "**\"X\"** is assigned the DataFrame with the target column dropped. **\"df.drop(['target'], axis='columns')\"\"** function is used to remove the 'target' column along the columns axis.\n",
        "\n",
        "**\"y\"** is assigned the target column from the DataFrame."
      ],
      "metadata": {
        "id": "DU-KxRGy3tnS"
      }
    },
    {
      "cell_type": "code",
      "source": [
        "X = df.drop(['target'], axis='columns')\n",
        "y = df.target"
      ],
      "metadata": {
        "id": "q58p4V3vNS81"
      },
      "execution_count": 13,
      "outputs": []
    },
    {
      "cell_type": "markdown",
      "source": [
        "\n",
        "\n",
        "---\n",
        "\n"
      ],
      "metadata": {
        "id": "-TGOD-jl2--r"
      }
    },
    {
      "cell_type": "markdown",
      "source": [
        "**\"train_test_split(X, y, test_size=0.2)\"** fuction slits the dataset with 80% of the data used for training and 20% for testing.\n",
        "\n",
        "on execution, 4 subsets will be created;\n",
        "1. **X_train**\n",
        "2. **X_test**\n",
        "3. **y_train**\n",
        "4. **y_test**\n",
        "\n",
        "1 is used to train X values and 2 is used to test X values. 3 is used to train target values and 4 is used to test tehe target values. "
      ],
      "metadata": {
        "id": "Y2c4ESLC30bc"
      }
    },
    {
      "cell_type": "code",
      "source": [
        "X_train, X_test, y_train, y_test = train_test_split(X, y, test_size=0.2)"
      ],
      "metadata": {
        "id": "3CtxkZR7NTF7"
      },
      "execution_count": 14,
      "outputs": []
    },
    {
      "cell_type": "markdown",
      "source": [
        "\n",
        "\n",
        "---\n",
        "\n"
      ],
      "metadata": {
        "id": "cgoP_f2p3AQi"
      }
    },
    {
      "cell_type": "markdown",
      "source": [
        "**\"len(X_train)\"** prints the number of **X_train** values "
      ],
      "metadata": {
        "id": "SN8DpJQl73uq"
      }
    },
    {
      "cell_type": "code",
      "source": [
        "len(X_train)"
      ],
      "metadata": {
        "colab": {
          "base_uri": "https://localhost:8080/"
        },
        "id": "KdrZT8gbNTJG",
        "outputId": "c5baac17-9fd9-4d7e-f353-0ad535be25bd"
      },
      "execution_count": 15,
      "outputs": [
        {
          "output_type": "execute_result",
          "data": {
            "text/plain": [
              "142"
            ]
          },
          "metadata": {},
          "execution_count": 15
        }
      ]
    },
    {
      "cell_type": "markdown",
      "source": [
        "\n",
        "\n",
        "---\n",
        "\n"
      ],
      "metadata": {
        "id": "olqp5QZa8HBz"
      }
    },
    {
      "cell_type": "markdown",
      "source": [
        "**\"len(X_test)\"** prints the number of **X_test** values "
      ],
      "metadata": {
        "id": "c0k5Qrl_8Gw9"
      }
    },
    {
      "cell_type": "code",
      "source": [
        "len(X_test)"
      ],
      "metadata": {
        "colab": {
          "base_uri": "https://localhost:8080/"
        },
        "id": "4SVrVQwgNTNP",
        "outputId": "724b2ef3-2bdd-4f06-cd31-66596497a765"
      },
      "execution_count": 16,
      "outputs": [
        {
          "output_type": "execute_result",
          "data": {
            "text/plain": [
              "36"
            ]
          },
          "metadata": {},
          "execution_count": 16
        }
      ]
    },
    {
      "cell_type": "markdown",
      "source": [
        "\n",
        "\n",
        "---\n",
        "\n"
      ],
      "metadata": {
        "id": "5yPQUN5l8NHh"
      }
    },
    {
      "cell_type": "markdown",
      "source": [
        " **\"\"from sklearn.svm import SVC\"** imports the Support Vector Classifier (SVC) class from the **\"sklearn.svm module\"**.\n",
        "\n",
        " **\"\"model = SVC(C=10)\"\"** initializes the SVC class with the regularization parameter **\"C\"** set to 10. "
      ],
      "metadata": {
        "id": "mXYRCM0X8MkL"
      }
    },
    {
      "cell_type": "code",
      "source": [
        "from sklearn.svm import SVC\n",
        "\n",
        "model = SVC(C=10)"
      ],
      "metadata": {
        "id": "dMN5dUE2NTQj"
      },
      "execution_count": 17,
      "outputs": []
    },
    {
      "cell_type": "markdown",
      "source": [
        "\n",
        "\n",
        "---\n",
        "\n"
      ],
      "metadata": {
        "id": "V3ynJFmx-Hwc"
      }
    },
    {
      "cell_type": "markdown",
      "source": [
        "**\"\"model.fit(X_train, y_train)\"\"** function trains the SVM model, **\"model\"** using the training features **X_train** and corresponding target values **y_train**"
      ],
      "metadata": {
        "id": "1aPGrKrU-HVE"
      }
    },
    {
      "cell_type": "code",
      "source": [
        "model.fit(X_train, y_train)"
      ],
      "metadata": {
        "colab": {
          "base_uri": "https://localhost:8080/",
          "height": 75
        },
        "id": "dUkogc0KOF3x",
        "outputId": "fef3f218-76f4-47ee-b376-977c6810e4dd"
      },
      "execution_count": 18,
      "outputs": [
        {
          "output_type": "execute_result",
          "data": {
            "text/plain": [
              "SVC(C=10)"
            ],
            "text/html": [
              "<style>#sk-container-id-1 {color: black;background-color: white;}#sk-container-id-1 pre{padding: 0;}#sk-container-id-1 div.sk-toggleable {background-color: white;}#sk-container-id-1 label.sk-toggleable__label {cursor: pointer;display: block;width: 100%;margin-bottom: 0;padding: 0.3em;box-sizing: border-box;text-align: center;}#sk-container-id-1 label.sk-toggleable__label-arrow:before {content: \"▸\";float: left;margin-right: 0.25em;color: #696969;}#sk-container-id-1 label.sk-toggleable__label-arrow:hover:before {color: black;}#sk-container-id-1 div.sk-estimator:hover label.sk-toggleable__label-arrow:before {color: black;}#sk-container-id-1 div.sk-toggleable__content {max-height: 0;max-width: 0;overflow: hidden;text-align: left;background-color: #f0f8ff;}#sk-container-id-1 div.sk-toggleable__content pre {margin: 0.2em;color: black;border-radius: 0.25em;background-color: #f0f8ff;}#sk-container-id-1 input.sk-toggleable__control:checked~div.sk-toggleable__content {max-height: 200px;max-width: 100%;overflow: auto;}#sk-container-id-1 input.sk-toggleable__control:checked~label.sk-toggleable__label-arrow:before {content: \"▾\";}#sk-container-id-1 div.sk-estimator input.sk-toggleable__control:checked~label.sk-toggleable__label {background-color: #d4ebff;}#sk-container-id-1 div.sk-label input.sk-toggleable__control:checked~label.sk-toggleable__label {background-color: #d4ebff;}#sk-container-id-1 input.sk-hidden--visually {border: 0;clip: rect(1px 1px 1px 1px);clip: rect(1px, 1px, 1px, 1px);height: 1px;margin: -1px;overflow: hidden;padding: 0;position: absolute;width: 1px;}#sk-container-id-1 div.sk-estimator {font-family: monospace;background-color: #f0f8ff;border: 1px dotted black;border-radius: 0.25em;box-sizing: border-box;margin-bottom: 0.5em;}#sk-container-id-1 div.sk-estimator:hover {background-color: #d4ebff;}#sk-container-id-1 div.sk-parallel-item::after {content: \"\";width: 100%;border-bottom: 1px solid gray;flex-grow: 1;}#sk-container-id-1 div.sk-label:hover label.sk-toggleable__label {background-color: #d4ebff;}#sk-container-id-1 div.sk-serial::before {content: \"\";position: absolute;border-left: 1px solid gray;box-sizing: border-box;top: 0;bottom: 0;left: 50%;z-index: 0;}#sk-container-id-1 div.sk-serial {display: flex;flex-direction: column;align-items: center;background-color: white;padding-right: 0.2em;padding-left: 0.2em;position: relative;}#sk-container-id-1 div.sk-item {position: relative;z-index: 1;}#sk-container-id-1 div.sk-parallel {display: flex;align-items: stretch;justify-content: center;background-color: white;position: relative;}#sk-container-id-1 div.sk-item::before, #sk-container-id-1 div.sk-parallel-item::before {content: \"\";position: absolute;border-left: 1px solid gray;box-sizing: border-box;top: 0;bottom: 0;left: 50%;z-index: -1;}#sk-container-id-1 div.sk-parallel-item {display: flex;flex-direction: column;z-index: 1;position: relative;background-color: white;}#sk-container-id-1 div.sk-parallel-item:first-child::after {align-self: flex-end;width: 50%;}#sk-container-id-1 div.sk-parallel-item:last-child::after {align-self: flex-start;width: 50%;}#sk-container-id-1 div.sk-parallel-item:only-child::after {width: 0;}#sk-container-id-1 div.sk-dashed-wrapped {border: 1px dashed gray;margin: 0 0.4em 0.5em 0.4em;box-sizing: border-box;padding-bottom: 0.4em;background-color: white;}#sk-container-id-1 div.sk-label label {font-family: monospace;font-weight: bold;display: inline-block;line-height: 1.2em;}#sk-container-id-1 div.sk-label-container {text-align: center;}#sk-container-id-1 div.sk-container {/* jupyter's `normalize.less` sets `[hidden] { display: none; }` but bootstrap.min.css set `[hidden] { display: none !important; }` so we also need the `!important` here to be able to override the default hidden behavior on the sphinx rendered scikit-learn.org. See: https://github.com/scikit-learn/scikit-learn/issues/21755 */display: inline-block !important;position: relative;}#sk-container-id-1 div.sk-text-repr-fallback {display: none;}</style><div id=\"sk-container-id-1\" class=\"sk-top-container\"><div class=\"sk-text-repr-fallback\"><pre>SVC(C=10)</pre><b>In a Jupyter environment, please rerun this cell to show the HTML representation or trust the notebook. <br />On GitHub, the HTML representation is unable to render, please try loading this page with nbviewer.org.</b></div><div class=\"sk-container\" hidden><div class=\"sk-item\"><div class=\"sk-estimator sk-toggleable\"><input class=\"sk-toggleable__control sk-hidden--visually\" id=\"sk-estimator-id-1\" type=\"checkbox\" checked><label for=\"sk-estimator-id-1\" class=\"sk-toggleable__label sk-toggleable__label-arrow\">SVC</label><div class=\"sk-toggleable__content\"><pre>SVC(C=10)</pre></div></div></div></div></div>"
            ]
          },
          "metadata": {},
          "execution_count": 18
        }
      ]
    },
    {
      "cell_type": "markdown",
      "source": [
        "\n",
        "\n",
        "---\n",
        "\n"
      ],
      "metadata": {
        "id": "5Xn8UqTU-njv"
      }
    },
    {
      "cell_type": "markdown",
      "source": [
        "**\"\"model.score(X_test, y_test)\"\"** evaluates the performance of the SVM model **model** on the testing data by calculating the accuracy score.\n",
        "\n",
        "we assess the performance using **\"score()\"** method."
      ],
      "metadata": {
        "id": "Wu0KFn0Q-m__"
      }
    },
    {
      "cell_type": "code",
      "source": [
        "model.score(X_test, y_test)"
      ],
      "metadata": {
        "colab": {
          "base_uri": "https://localhost:8080/"
        },
        "id": "WMwf8VyZOGAQ",
        "outputId": "f9a2d6a6-fed0-462c-c95e-36f2ba5560cc"
      },
      "execution_count": 19,
      "outputs": [
        {
          "output_type": "execute_result",
          "data": {
            "text/plain": [
              "0.6111111111111112"
            ]
          },
          "metadata": {},
          "execution_count": 19
        }
      ]
    },
    {
      "cell_type": "markdown",
      "source": [
        "\n",
        "\n",
        "---\n",
        "\n"
      ],
      "metadata": {
        "id": "47yavnz0_k5x"
      }
    },
    {
      "cell_type": "markdown",
      "source": [
        "**\"\"from sklearn.metrics import confusion_matrix\"\"** imports the confusion_matrix function from the **\"\"sklearn.metrics module\"\"**.\n",
        "\n",
        "**\"\"y_pred = model.predict(X_test)\"\"** uses the trained SVM model to predict the target values for the testing features **X_test**.\n",
        "\n",
        "**\"\"cm = confusion_matrix(y_test, y_pred)\"\"** calculates the confusion matrix based on the predicted target values **y_pred** and the true target values **y_test**.\n",
        "\n",
        "**\"\"cm\"\"** represents the confusion matrix that was calculated using the **confusion_matrix()** function."
      ],
      "metadata": {
        "id": "jwdTUccn_kK2"
      }
    },
    {
      "cell_type": "code",
      "source": [
        "from sklearn.metrics import confusion_matrix\n",
        "\n",
        "y_pred = model.predict(X_test)\n",
        "\n",
        "cm = confusion_matrix(y_test, y_pred)\n",
        "cm"
      ],
      "metadata": {
        "colab": {
          "base_uri": "https://localhost:8080/"
        },
        "id": "Vy--uVRaOGDx",
        "outputId": "7160c736-944c-4fbc-d49f-0f941cf52804"
      },
      "execution_count": 20,
      "outputs": [
        {
          "output_type": "execute_result",
          "data": {
            "text/plain": [
              "array([[12,  0,  1],\n",
              "       [ 1,  8,  4],\n",
              "       [ 2,  6,  2]])"
            ]
          },
          "metadata": {},
          "execution_count": 20
        }
      ]
    },
    {
      "cell_type": "markdown",
      "source": [
        "\n",
        "\n",
        "---\n",
        "\n"
      ],
      "metadata": {
        "id": "Vq_K_nfcAiRD"
      }
    },
    {
      "cell_type": "markdown",
      "source": [
        "**\"\"import seaborn as sns\"\"** imports the seaborn library, which is a data visualization library built on top of matplotlib and provides additional plot styles and functionalities.\n",
        "\n",
        "**\"\"plt.figure(figsize=(7, 5))\"\"** line creates a new figure with a specified size of 7 inches in width and 5 inches in height.\n",
        "\n",
        "**\"\"sns.heatmap(cm, annot=True)\"\"** creates a heatmap using the **heatmap()** function and **cm** represents the confusion matrix which is passed as the data for the heatmap. The **annot=True** displays the values of the matrix within the heatmap cells."
      ],
      "metadata": {
        "id": "PTHy7cwoAlHD"
      }
    },
    {
      "cell_type": "code",
      "source": [
        "%matplotlib inline\n",
        "import matplotlib.pyplot as plt\n",
        "import seaborn as sns\n",
        "\n",
        "plt.figure(figsize=(7, 5))\n",
        "sns.heatmap(cm, annot=True)\n",
        "plt.xlabel('Predicted')\n",
        "plt.ylabel('Truth')"
      ],
      "metadata": {
        "colab": {
          "base_uri": "https://localhost:8080/",
          "height": 487
        },
        "id": "eHC2KHTzQP6J",
        "outputId": "83be56e7-73e8-49cb-a249-bc1112aedc13"
      },
      "execution_count": 21,
      "outputs": [
        {
          "output_type": "execute_result",
          "data": {
            "text/plain": [
              "Text(58.222222222222214, 0.5, 'Truth')"
            ]
          },
          "metadata": {},
          "execution_count": 21
        },
        {
          "output_type": "display_data",
          "data": {
            "text/plain": [
              "<Figure size 700x500 with 2 Axes>"
            ],
            "image/png": "[encoded data removed]"
          },
          "metadata": {}
        }
      ]
    },
    {
      "cell_type": "markdown",
      "source": [
        "\n",
        "\n",
        "---\n",
        "\n"
      ],
      "metadata": {
        "id": "z8AbM27VAoB6"
      }
    },
    {
      "cell_type": "markdown",
      "source": [
        "**\"\"from sklearn.metrics import classification_report\"\"** imports the **classification_report** function from the **sklearn.metrics** module.\n",
        "\n",
        "**classification_report()** function generates a report that includes metrics;\n",
        " \n",
        "1. precision\n",
        "2. recall \n",
        "3. F1-score\n",
        "4. support \n",
        "\n",
        "for each class."
      ],
      "metadata": {
        "id": "sWpfROjkApUB"
      }
    },
    {
      "cell_type": "code",
      "source": [
        "from sklearn.metrics import classification_report\n",
        "\n",
        "print(classification_report(y_test, y_pred))"
      ],
      "metadata": {
        "colab": {
          "base_uri": "https://localhost:8080/"
        },
        "id": "AWstGLC_QGE7",
        "outputId": "072ec0f4-1923-44d1-cf0e-e7e00c8588f8"
      },
      "execution_count": 22,
      "outputs": [
        {
          "output_type": "stream",
          "name": "stdout",
          "text": [
            "              precision    recall  f1-score   support\n",
            "\n",
            "           0       0.80      0.92      0.86        13\n",
            "           1       0.57      0.62      0.59        13\n",
            "           2       0.29      0.20      0.24        10\n",
            "\n",
            "    accuracy                           0.61        36\n",
            "   macro avg       0.55      0.58      0.56        36\n",
            "weighted avg       0.57      0.61      0.59        36\n",
            "\n"
          ]
        }
      ]
    },
    {
      "cell_type": "markdown",
      "source": [
        "\n",
        "\n",
        "---\n",
        "\n"
      ],
      "metadata": {
        "id": "t5CP3ezAJHQ5"
      }
    },
    {
      "cell_type": "markdown",
      "source": [
        "\n",
        "\n",
        "---\n",
        "\n"
      ],
      "metadata": {
        "id": "mvzsPxEbL0VJ"
      }
    },
    {
      "cell_type": "markdown",
      "source": [
        "## **3. K Nearest Neighbors**"
      ],
      "metadata": {
        "id": "-ag4PZWhL4GA"
      }
    },
    {
      "cell_type": "markdown",
      "source": [
        "**\"from sklearn.model_selection import train_test_split\"** imports the train_test_split function from the **\"sklearn.model_selection\"** module.\n",
        "\n",
        " The **\"train_test_split\"** function is used to split a dataset into training and testing subsets and it randomly partitions the data into two or more sets, that are used for the purpose of training a model on one set and evaluating its performance on the other."
      ],
      "metadata": {
        "id": "ha-1MyBhRZOR"
      }
    },
    {
      "cell_type": "code",
      "source": [
        "from sklearn.model_selection import train_test_split"
      ],
      "metadata": {
        "id": "FmwqLV1hQ_vv"
      },
      "execution_count": 23,
      "outputs": []
    },
    {
      "cell_type": "markdown",
      "source": [
        "\n",
        "\n",
        "---\n",
        "\n"
      ],
      "metadata": {
        "id": "pRWbCN5aRXtJ"
      }
    },
    {
      "cell_type": "markdown",
      "source": [
        "**\"X\"** is assigned the DataFrame with the target column dropped. **\"df.drop(['target'], axis='columns')\"\"** function is used to remove the 'target' column along the columns axis.\n",
        "\n",
        "**\"y\"** is assigned the target column from the DataFrame."
      ],
      "metadata": {
        "id": "f2iHI15ZRbXh"
      }
    },
    {
      "cell_type": "code",
      "source": [
        "X = df.drop(['target'], axis='columns')\n",
        "y = df.target"
      ],
      "metadata": {
        "id": "hPND-R0eRPU3"
      },
      "execution_count": 24,
      "outputs": []
    },
    {
      "cell_type": "markdown",
      "source": [
        "\n",
        "\n",
        "---\n",
        "\n"
      ],
      "metadata": {
        "id": "3qCDI2e9RcQx"
      }
    },
    {
      "cell_type": "markdown",
      "source": [
        "**\"train_test_split(X, y, test_size=0.2)\"** fuction slits the dataset with 80% of the data used for traing and 20% for testing.\n",
        "\n",
        "on execution, 4 subsets will be created;\n",
        "1. **X_train**\n",
        "2. **X_test**\n",
        "3. **y_train**\n",
        "4. **y_test**\n",
        "\n",
        "1 is used to train X values and 2 is used to test X values. 3 is used to train target values and 4 is used to test tehe target values. "
      ],
      "metadata": {
        "id": "LTM_5PiARdSW"
      }
    },
    {
      "cell_type": "code",
      "source": [
        "X_train, X_test, y_train, y_test = train_test_split(X, y, test_size=0.2)"
      ],
      "metadata": {
        "id": "H_0jcDCMRSVc"
      },
      "execution_count": 25,
      "outputs": []
    },
    {
      "cell_type": "markdown",
      "source": [
        "\n",
        "\n",
        "---\n",
        "\n"
      ],
      "metadata": {
        "id": "wp7CeNsdRfHT"
      }
    },
    {
      "cell_type": "markdown",
      "source": [
        "**\"from sklearn.neighbors import KNeighborsClassifier\"** imports the **KNeighborsClassifier** class from **the sklearn.neighbors** module.\n",
        "\n",
        "**\"\"knn = KNeighborsClassifier(n_neighbors=10)\"\"** initializes KNN Classifier with **n_neighbors=10** is the number of neighbors. \n",
        "\n",
        "**\"\"knn.fit(X_train, y_train)\"\"** trains the KNN classifier using the training data by calling the fit method. We train using **X_train** parameter which represents the features of the training data, and the **y_train** parameter which represents the corresponding target values."
      ],
      "metadata": {
        "id": "Rm33_2LaMC30"
      }
    },
    {
      "cell_type": "code",
      "source": [
        "from sklearn.neighbors import KNeighborsClassifier\n",
        "\n",
        "knn = KNeighborsClassifier(n_neighbors=10)\n",
        "knn.fit(X_train, y_train)"
      ],
      "metadata": {
        "colab": {
          "base_uri": "https://localhost:8080/",
          "height": 75
        },
        "id": "R5dCIx9qIbnO",
        "outputId": "505b6be5-02e3-43cb-e98d-fd5593f96319"
      },
      "execution_count": 26,
      "outputs": [
        {
          "output_type": "execute_result",
          "data": {
            "text/plain": [
              "KNeighborsClassifier(n_neighbors=10)"
            ],
            "text/html": [
              "<style>#sk-container-id-2 {color: black;background-color: white;}#sk-container-id-2 pre{padding: 0;}#sk-container-id-2 div.sk-toggleable {background-color: white;}#sk-container-id-2 label.sk-toggleable__label {cursor: pointer;display: block;width: 100%;margin-bottom: 0;padding: 0.3em;box-sizing: border-box;text-align: center;}#sk-container-id-2 label.sk-toggleable__label-arrow:before {content: \"▸\";float: left;margin-right: 0.25em;color: #696969;}#sk-container-id-2 label.sk-toggleable__label-arrow:hover:before {color: black;}#sk-container-id-2 div.sk-estimator:hover label.sk-toggleable__label-arrow:before {color: black;}#sk-container-id-2 div.sk-toggleable__content {max-height: 0;max-width: 0;overflow: hidden;text-align: left;background-color: #f0f8ff;}#sk-container-id-2 div.sk-toggleable__content pre {margin: 0.2em;color: black;border-radius: 0.25em;background-color: #f0f8ff;}#sk-container-id-2 input.sk-toggleable__control:checked~div.sk-toggleable__content {max-height: 200px;max-width: 100%;overflow: auto;}#sk-container-id-2 input.sk-toggleable__control:checked~label.sk-toggleable__label-arrow:before {content: \"▾\";}#sk-container-id-2 div.sk-estimator input.sk-toggleable__control:checked~label.sk-toggleable__label {background-color: #d4ebff;}#sk-container-id-2 div.sk-label input.sk-toggleable__control:checked~label.sk-toggleable__label {background-color: #d4ebff;}#sk-container-id-2 input.sk-hidden--visually {border: 0;clip: rect(1px 1px 1px 1px);clip: rect(1px, 1px, 1px, 1px);height: 1px;margin: -1px;overflow: hidden;padding: 0;position: absolute;width: 1px;}#sk-container-id-2 div.sk-estimator {font-family: monospace;background-color: #f0f8ff;border: 1px dotted black;border-radius: 0.25em;box-sizing: border-box;margin-bottom: 0.5em;}#sk-container-id-2 div.sk-estimator:hover {background-color: #d4ebff;}#sk-container-id-2 div.sk-parallel-item::after {content: \"\";width: 100%;border-bottom: 1px solid gray;flex-grow: 1;}#sk-container-id-2 div.sk-label:hover label.sk-toggleable__label {background-color: #d4ebff;}#sk-container-id-2 div.sk-serial::before {content: \"\";position: absolute;border-left: 1px solid gray;box-sizing: border-box;top: 0;bottom: 0;left: 50%;z-index: 0;}#sk-container-id-2 div.sk-serial {display: flex;flex-direction: column;align-items: center;background-color: white;padding-right: 0.2em;padding-left: 0.2em;position: relative;}#sk-container-id-2 div.sk-item {position: relative;z-index: 1;}#sk-container-id-2 div.sk-parallel {display: flex;align-items: stretch;justify-content: center;background-color: white;position: relative;}#sk-container-id-2 div.sk-item::before, #sk-container-id-2 div.sk-parallel-item::before {content: \"\";position: absolute;border-left: 1px solid gray;box-sizing: border-box;top: 0;bottom: 0;left: 50%;z-index: -1;}#sk-container-id-2 div.sk-parallel-item {display: flex;flex-direction: column;z-index: 1;position: relative;background-color: white;}#sk-container-id-2 div.sk-parallel-item:first-child::after {align-self: flex-end;width: 50%;}#sk-container-id-2 div.sk-parallel-item:last-child::after {align-self: flex-start;width: 50%;}#sk-container-id-2 div.sk-parallel-item:only-child::after {width: 0;}#sk-container-id-2 div.sk-dashed-wrapped {border: 1px dashed gray;margin: 0 0.4em 0.5em 0.4em;box-sizing: border-box;padding-bottom: 0.4em;background-color: white;}#sk-container-id-2 div.sk-label label {font-family: monospace;font-weight: bold;display: inline-block;line-height: 1.2em;}#sk-container-id-2 div.sk-label-container {text-align: center;}#sk-container-id-2 div.sk-container {/* jupyter's `normalize.less` sets `[hidden] { display: none; }` but bootstrap.min.css set `[hidden] { display: none !important; }` so we also need the `!important` here to be able to override the default hidden behavior on the sphinx rendered scikit-learn.org. See: https://github.com/scikit-learn/scikit-learn/issues/21755 */display: inline-block !important;position: relative;}#sk-container-id-2 div.sk-text-repr-fallback {display: none;}</style><div id=\"sk-container-id-2\" class=\"sk-top-container\"><div class=\"sk-text-repr-fallback\"><pre>KNeighborsClassifier(n_neighbors=10)</pre><b>In a Jupyter environment, please rerun this cell to show the HTML representation or trust the notebook. <br />On GitHub, the HTML representation is unable to render, please try loading this page with nbviewer.org.</b></div><div class=\"sk-container\" hidden><div class=\"sk-item\"><div class=\"sk-estimator sk-toggleable\"><input class=\"sk-toggleable__control sk-hidden--visually\" id=\"sk-estimator-id-2\" type=\"checkbox\" checked><label for=\"sk-estimator-id-2\" class=\"sk-toggleable__label sk-toggleable__label-arrow\">KNeighborsClassifier</label><div class=\"sk-toggleable__content\"><pre>KNeighborsClassifier(n_neighbors=10)</pre></div></div></div></div></div>"
            ]
          },
          "metadata": {},
          "execution_count": 26
        }
      ]
    },
    {
      "cell_type": "markdown",
      "source": [
        "\n",
        "\n",
        "---\n",
        "\n"
      ],
      "metadata": {
        "id": "EWtX8bbdMGe6"
      }
    },
    {
      "cell_type": "markdown",
      "source": [
        "**\"\"knn.score(X_test, y_test)\"\"** evaluates the performance of the KNN Classifier **knn** on the testing data by calculating the accuracy score."
      ],
      "metadata": {
        "id": "Q5WCGTjzMM6l"
      }
    },
    {
      "cell_type": "code",
      "source": [
        "knn.score(X_test, y_test)"
      ],
      "metadata": {
        "colab": {
          "base_uri": "https://localhost:8080/"
        },
        "id": "2mwuMnQ4IcZG",
        "outputId": "ae0c1580-7df8-4438-a316-a0997eac0f98"
      },
      "execution_count": 27,
      "outputs": [
        {
          "output_type": "execute_result",
          "data": {
            "text/plain": [
              "0.6388888888888888"
            ]
          },
          "metadata": {},
          "execution_count": 27
        }
      ]
    },
    {
      "cell_type": "markdown",
      "source": [
        "\n",
        "\n",
        "---\n",
        "\n"
      ],
      "metadata": {
        "id": "uvDF7-iMMmwW"
      }
    },
    {
      "cell_type": "markdown",
      "source": [
        "**\"\"from sklearn.metrics import confusion_matrix\"\"** imports the confusion_matrix function from the **\"\"sklearn.metrics module\"\"**.\n",
        "\n",
        "**\"\"y_pred = model.predict(X_test)\"\"** uses the trained KNN Clasifier to predict the target values for the testing features **X_test**.\n",
        "\n",
        "**\"\"zm = confusion_matrix(y_test, y_pred)\"\"** calculates the confusion matrix based on the predicted target values **y_pred** and the true target values **y_test**.\n",
        "\n",
        "**\"\"zm\"\"** represents the confusion matrix that was calculated using the **confusion_matrix()** function."
      ],
      "metadata": {
        "id": "SAWPYjuBMt9k"
      }
    },
    {
      "cell_type": "code",
      "source": [
        "from sklearn.metrics import confusion_matrix\n",
        "\n",
        "y_pred = knn.predict(X_test)\n",
        "\n",
        "zm = confusion_matrix(y_test, y_pred)\n",
        "zm"
      ],
      "metadata": {
        "colab": {
          "base_uri": "https://localhost:8080/"
        },
        "id": "4K-5pI5yIdVt",
        "outputId": "61d3661f-1abd-419c-e085-80d10519e3f6"
      },
      "execution_count": 28,
      "outputs": [
        {
          "output_type": "execute_result",
          "data": {
            "text/plain": [
              "array([[11,  0,  2],\n",
              "       [ 1, 10,  3],\n",
              "       [ 2,  5,  2]])"
            ]
          },
          "metadata": {},
          "execution_count": 28
        }
      ]
    },
    {
      "cell_type": "markdown",
      "source": [
        "\n",
        "\n",
        "---\n",
        "\n"
      ],
      "metadata": {
        "id": "u0W-p_5kMynX"
      }
    },
    {
      "cell_type": "markdown",
      "source": [
        "**\"\"import seaborn as sns\"\"** imports the seaborn library, which is a data visualization library built on top of matplotlib and provides additional plot styles and functionalities.\n",
        "\n",
        "**\"\"plt.figure(figsize=(7, 5))\"\"** line creates a new figure with a specified size of 7 inches in width and 5 inches in height.\n",
        "\n",
        "**\"\"sns.heatmap(zm, annot=True)\"\"** creates a heatmap using the **heatmap()** function and **zm** represents the confusion matrix which is passed as the data for the heatmap. The **annot=True** displays the values of the matrix within the heatmap cells."
      ],
      "metadata": {
        "id": "YYEB8s8cMw3Z"
      }
    },
    {
      "cell_type": "code",
      "source": [
        "%matplotlib inline\n",
        "import matplotlib.pyplot as plt\n",
        "import seaborn as sns\n",
        "\n",
        "plt.figure(figsize=(7, 5))\n",
        "sns.heatmap(zm, annot=True)\n",
        "plt.xlabel('Predicted')\n",
        "plt.ylabel('Truth')"
      ],
      "metadata": {
        "colab": {
          "base_uri": "https://localhost:8080/",
          "height": 482
        },
        "id": "exuRDIY9IeJS",
        "outputId": "0fefb5bb-a82c-4def-b472-f37ce947ad9c"
      },
      "execution_count": 29,
      "outputs": [
        {
          "output_type": "execute_result",
          "data": {
            "text/plain": [
              "Text(58.222222222222214, 0.5, 'Truth')"
            ]
          },
          "metadata": {},
          "execution_count": 29
        },
        {
          "output_type": "display_data",
          "data": {
            "text/plain": [
              "<Figure size 700x500 with 2 Axes>"
            ],
            "image/png": "[encoded data removed]"
          },
          "metadata": {}
        }
      ]
    },
    {
      "cell_type": "markdown",
      "source": [
        "\n",
        "\n",
        "---\n",
        "\n"
      ],
      "metadata": {
        "id": "BCcT10xBM4Bw"
      }
    },
    {
      "cell_type": "markdown",
      "source": [
        "**\"\"from sklearn.metrics import classification_report\"\"** imports the **classification_report** function from the **sklearn.metrics** module.\n",
        "\n",
        "**classification_report()** function generates a report that includes metrics;\n",
        " \n",
        "1. precision\n",
        "2. recall \n",
        "3. F1-score\n",
        "4. support \n",
        "\n",
        "for each class."
      ],
      "metadata": {
        "id": "DlZj6PWVM3BG"
      }
    },
    {
      "cell_type": "code",
      "source": [
        "from sklearn.metrics import classification_report\n",
        "\n",
        "print(classification_report(y_test, y_pred))"
      ],
      "metadata": {
        "colab": {
          "base_uri": "https://localhost:8080/"
        },
        "id": "w-4Y662_Ipjw",
        "outputId": "f7ac4188-8341-4f30-f286-3b23429c92cf"
      },
      "execution_count": 30,
      "outputs": [
        {
          "output_type": "stream",
          "name": "stdout",
          "text": [
            "              precision    recall  f1-score   support\n",
            "\n",
            "           0       0.79      0.85      0.81        13\n",
            "           1       0.67      0.71      0.69        14\n",
            "           2       0.29      0.22      0.25         9\n",
            "\n",
            "    accuracy                           0.64        36\n",
            "   macro avg       0.58      0.59      0.58        36\n",
            "weighted avg       0.61      0.64      0.62        36\n",
            "\n"
          ]
        }
      ]
    },
    {
      "cell_type": "markdown",
      "source": [
        "\n",
        "\n",
        "---\n",
        "\n"
      ],
      "metadata": {
        "id": "BnGO8QaNM7Sg"
      }
    },
    {
      "cell_type": "markdown",
      "source": [
        "\n",
        "\n",
        "---\n",
        "\n"
      ],
      "metadata": {
        "id": "LKiz3q5gVRyh"
      }
    },
    {
      "cell_type": "markdown",
      "source": [
        "## **4. Gaussian Naive Bayes Classifier**"
      ],
      "metadata": {
        "id": "OlaJOojdVToa"
      }
    },
    {
      "cell_type": "markdown",
      "source": [
        "**\"from sklearn.model_selection import train_test_split\"** imports the train_test_split function from the **\"sklearn.model_selection\"** module.\n",
        "\n",
        " The **\"train_test_split\"** function is used to split a dataset into training and testing subsets and it randomly partitions the data into two or more sets, that are used for the purpose of training a model on one set and evaluating its performance on the other."
      ],
      "metadata": {
        "id": "4p67bj_9Vg_d"
      }
    },
    {
      "cell_type": "code",
      "source": [
        "from sklearn.model_selection import train_test_split"
      ],
      "metadata": {
        "id": "jN0NPqi7IqTN"
      },
      "execution_count": 31,
      "outputs": []
    },
    {
      "cell_type": "markdown",
      "source": [
        "\n",
        "\n",
        "---\n",
        "\n"
      ],
      "metadata": {
        "id": "KGiogYc9Viwv"
      }
    },
    {
      "cell_type": "markdown",
      "source": [
        "**\"X\"** is assigned the DataFrame with the target column dropped. **\"df.drop(['target'], axis='columns')\"\"** function is used to remove the 'target' column along the columns axis.\n",
        "\n",
        "**\"y\"** is assigned the target column from the DataFrame."
      ],
      "metadata": {
        "id": "LJYpxopqVh9c"
      }
    },
    {
      "cell_type": "code",
      "source": [
        "X = df.drop(['target'], axis='columns')\n",
        "y = df.target"
      ],
      "metadata": {
        "id": "FkaZtea6Ve_4"
      },
      "execution_count": 32,
      "outputs": []
    },
    {
      "cell_type": "markdown",
      "source": [
        "\n",
        "\n",
        "---\n",
        "\n"
      ],
      "metadata": {
        "id": "wWEo33dAVjmE"
      }
    },
    {
      "cell_type": "markdown",
      "source": [
        "**\"train_test_split(X, y, test_size=0.2)\"** fuction slits the dataset with 80% of the data used for traing and 20% for testing.\n",
        "\n",
        "on execution, 4 subsets will be created;\n",
        "1. **X_train**\n",
        "2. **X_test**\n",
        "3. **y_train**\n",
        "4. **y_test**\n",
        "\n",
        "1 is used to train X values and 2 is used to test X values. 3 is used to train target values and 4 is used to test tehe target values. "
      ],
      "metadata": {
        "id": "Nx_AF2JAVkUN"
      }
    },
    {
      "cell_type": "code",
      "source": [
        "X_train, X_test, y_train, y_test = train_test_split(X, y, test_size=0.2)"
      ],
      "metadata": {
        "id": "MqqAmUnUVevN"
      },
      "execution_count": 33,
      "outputs": []
    },
    {
      "cell_type": "markdown",
      "source": [
        "\n",
        "\n",
        "---\n",
        "\n"
      ],
      "metadata": {
        "id": "sq7t6wZ4VqgO"
      }
    },
    {
      "cell_type": "markdown",
      "source": [
        "**\"\"from sklearn.naive_bayes import GaussianNB\"\"** imports the **GaussianNB** class from the **sklearn.naive_bayes** module.\n",
        "\n",
        "**\"GB = GaussianNB()\"** creates an instance of the Gaussian Naive Bayes classifier by initializing the GB object.\n",
        "\n",
        "**\"\"GB.fit(X_train, y_train)\"\"** trains the Gaussian Naive Bayes classifier using the training data by calling the fit method. We train using **X_train** parameter which represents the features of the training data, and the **y_train** parameter which represents the corresponding target values."
      ],
      "metadata": {
        "id": "NPqMLagbYw3L"
      }
    },
    {
      "cell_type": "code",
      "source": [
        "from sklearn.naive_bayes import GaussianNB\n",
        "\n",
        "GB = GaussianNB()\n",
        "GB.fit(X_train, y_train)"
      ],
      "metadata": {
        "id": "ryfFc3zqVeb8",
        "colab": {
          "base_uri": "https://localhost:8080/",
          "height": 75
        },
        "outputId": "50317d05-e4be-4c24-995f-5c19a79c16f3"
      },
      "execution_count": 34,
      "outputs": [
        {
          "output_type": "execute_result",
          "data": {
            "text/plain": [
              "GaussianNB()"
            ],
            "text/html": [
              "<style>#sk-container-id-3 {color: black;background-color: white;}#sk-container-id-3 pre{padding: 0;}#sk-container-id-3 div.sk-toggleable {background-color: white;}#sk-container-id-3 label.sk-toggleable__label {cursor: pointer;display: block;width: 100%;margin-bottom: 0;padding: 0.3em;box-sizing: border-box;text-align: center;}#sk-container-id-3 label.sk-toggleable__label-arrow:before {content: \"▸\";float: left;margin-right: 0.25em;color: #696969;}#sk-container-id-3 label.sk-toggleable__label-arrow:hover:before {color: black;}#sk-container-id-3 div.sk-estimator:hover label.sk-toggleable__label-arrow:before {color: black;}#sk-container-id-3 div.sk-toggleable__content {max-height: 0;max-width: 0;overflow: hidden;text-align: left;background-color: #f0f8ff;}#sk-container-id-3 div.sk-toggleable__content pre {margin: 0.2em;color: black;border-radius: 0.25em;background-color: #f0f8ff;}#sk-container-id-3 input.sk-toggleable__control:checked~div.sk-toggleable__content {max-height: 200px;max-width: 100%;overflow: auto;}#sk-container-id-3 input.sk-toggleable__control:checked~label.sk-toggleable__label-arrow:before {content: \"▾\";}#sk-container-id-3 div.sk-estimator input.sk-toggleable__control:checked~label.sk-toggleable__label {background-color: #d4ebff;}#sk-container-id-3 div.sk-label input.sk-toggleable__control:checked~label.sk-toggleable__label {background-color: #d4ebff;}#sk-container-id-3 input.sk-hidden--visually {border: 0;clip: rect(1px 1px 1px 1px);clip: rect(1px, 1px, 1px, 1px);height: 1px;margin: -1px;overflow: hidden;padding: 0;position: absolute;width: 1px;}#sk-container-id-3 div.sk-estimator {font-family: monospace;background-color: #f0f8ff;border: 1px dotted black;border-radius: 0.25em;box-sizing: border-box;margin-bottom: 0.5em;}#sk-container-id-3 div.sk-estimator:hover {background-color: #d4ebff;}#sk-container-id-3 div.sk-parallel-item::after {content: \"\";width: 100%;border-bottom: 1px solid gray;flex-grow: 1;}#sk-container-id-3 div.sk-label:hover label.sk-toggleable__label {background-color: #d4ebff;}#sk-container-id-3 div.sk-serial::before {content: \"\";position: absolute;border-left: 1px solid gray;box-sizing: border-box;top: 0;bottom: 0;left: 50%;z-index: 0;}#sk-container-id-3 div.sk-serial {display: flex;flex-direction: column;align-items: center;background-color: white;padding-right: 0.2em;padding-left: 0.2em;position: relative;}#sk-container-id-3 div.sk-item {position: relative;z-index: 1;}#sk-container-id-3 div.sk-parallel {display: flex;align-items: stretch;justify-content: center;background-color: white;position: relative;}#sk-container-id-3 div.sk-item::before, #sk-container-id-3 div.sk-parallel-item::before {content: \"\";position: absolute;border-left: 1px solid gray;box-sizing: border-box;top: 0;bottom: 0;left: 50%;z-index: -1;}#sk-container-id-3 div.sk-parallel-item {display: flex;flex-direction: column;z-index: 1;position: relative;background-color: white;}#sk-container-id-3 div.sk-parallel-item:first-child::after {align-self: flex-end;width: 50%;}#sk-container-id-3 div.sk-parallel-item:last-child::after {align-self: flex-start;width: 50%;}#sk-container-id-3 div.sk-parallel-item:only-child::after {width: 0;}#sk-container-id-3 div.sk-dashed-wrapped {border: 1px dashed gray;margin: 0 0.4em 0.5em 0.4em;box-sizing: border-box;padding-bottom: 0.4em;background-color: white;}#sk-container-id-3 div.sk-label label {font-family: monospace;font-weight: bold;display: inline-block;line-height: 1.2em;}#sk-container-id-3 div.sk-label-container {text-align: center;}#sk-container-id-3 div.sk-container {/* jupyter's `normalize.less` sets `[hidden] { display: none; }` but bootstrap.min.css set `[hidden] { display: none !important; }` so we also need the `!important` here to be able to override the default hidden behavior on the sphinx rendered scikit-learn.org. See: https://github.com/scikit-learn/scikit-learn/issues/21755 */display: inline-block !important;position: relative;}#sk-container-id-3 div.sk-text-repr-fallback {display: none;}</style><div id=\"sk-container-id-3\" class=\"sk-top-container\"><div class=\"sk-text-repr-fallback\"><pre>GaussianNB()</pre><b>In a Jupyter environment, please rerun this cell to show the HTML representation or trust the notebook. <br />On GitHub, the HTML representation is unable to render, please try loading this page with nbviewer.org.</b></div><div class=\"sk-container\" hidden><div class=\"sk-item\"><div class=\"sk-estimator sk-toggleable\"><input class=\"sk-toggleable__control sk-hidden--visually\" id=\"sk-estimator-id-3\" type=\"checkbox\" checked><label for=\"sk-estimator-id-3\" class=\"sk-toggleable__label sk-toggleable__label-arrow\">GaussianNB</label><div class=\"sk-toggleable__content\"><pre>GaussianNB()</pre></div></div></div></div></div>"
            ]
          },
          "metadata": {},
          "execution_count": 34
        }
      ]
    },
    {
      "cell_type": "markdown",
      "source": [
        "\n",
        "\n",
        "---\n",
        "\n"
      ],
      "metadata": {
        "id": "_vpEKtgDXZY_"
      }
    },
    {
      "cell_type": "markdown",
      "source": [
        "**\"\"GB.score(X_test, y_test)\"\"** evaluates the performance of the KNN Classifier **knn** on the testing data by calculating the accuracy score.\n"
      ],
      "metadata": {
        "id": "puLmo-77XY9Z"
      }
    },
    {
      "cell_type": "code",
      "source": [
        "GB.score(X_test, y_test)"
      ],
      "metadata": {
        "id": "-51rNeq-VeMV",
        "colab": {
          "base_uri": "https://localhost:8080/"
        },
        "outputId": "269c3db4-c158-4b0e-b42a-5c13b5414712"
      },
      "execution_count": 35,
      "outputs": [
        {
          "output_type": "execute_result",
          "data": {
            "text/plain": [
              "0.9722222222222222"
            ]
          },
          "metadata": {},
          "execution_count": 35
        }
      ]
    },
    {
      "cell_type": "markdown",
      "source": [
        "\n",
        "\n",
        "---\n",
        "\n"
      ],
      "metadata": {
        "id": "rMMTVIXpXXX2"
      }
    },
    {
      "cell_type": "markdown",
      "source": [
        "**\"\"GB.predict_proba(X_test[:10])\"\"** returns the predicted probabilities of each class for the first 10 samples in **X_test**.\n",
        "\n",
        "The **predict_proba()** method is used to predict class probabilities for input samples. "
      ],
      "metadata": {
        "id": "dXt_THZvXW6s"
      }
    },
    {
      "cell_type": "code",
      "source": [
        "GB.predict_proba(X_test[:10])"
      ],
      "metadata": {
        "id": "CDS5Sv1sVd88",
        "colab": {
          "base_uri": "https://localhost:8080/"
        },
        "outputId": "a6e1af3a-4cf0-4516-a7d6-96dd9f9a2a1a"
      },
      "execution_count": 36,
      "outputs": [
        {
          "output_type": "execute_result",
          "data": {
            "text/plain": [
              "array([[7.71334770e-15, 1.00000000e+00, 8.49466761e-11],\n",
              "       [1.33456607e-28, 2.14945608e-07, 9.99999785e-01],\n",
              "       [5.17578867e-09, 9.99999995e-01, 8.68139369e-14],\n",
              "       [2.37379870e-20, 6.94329994e-07, 9.99999306e-01],\n",
              "       [3.15631020e-08, 9.99999968e-01, 8.12864575e-18],\n",
              "       [9.99583976e-01, 4.16024199e-04, 1.84426424e-19],\n",
              "       [4.12738743e-08, 9.99999959e-01, 2.47771636e-19],\n",
              "       [8.87943790e-09, 9.99999991e-01, 3.13442727e-27],\n",
              "       [9.99999997e-01, 3.39109705e-09, 5.06382233e-34],\n",
              "       [5.09555800e-15, 9.99999571e-01, 4.28588976e-07]])"
            ]
          },
          "metadata": {},
          "execution_count": 36
        }
      ]
    },
    {
      "cell_type": "markdown",
      "source": [
        "\n",
        "\n",
        "---\n",
        "\n"
      ],
      "metadata": {
        "id": "A4T5dbbIXVYh"
      }
    },
    {
      "cell_type": "markdown",
      "source": [
        "**\"\"from sklearn.metrics import confusion_matrix\"\"** imports the confusion_matrix function from the **\"\"sklearn.metrics module\"\"**.\n",
        "\n",
        "**\"\"y_pred = GB.predict(X_test)\"\"** uses the trained KNN Clasifier to predict the target values for the testing features **X_test**.\n",
        "\n",
        "**\"\"sm = confusion_matrix(y_test, y_pred)\"\"** calculates the confusion matrix based on the predicted target values **y_pred** and the true target values **y_test**.\n",
        "\n",
        "**\"\"sm\"\"** represents the confusion matrix that was calculated using the **confusion_matrix()** function."
      ],
      "metadata": {
        "id": "ZwPWRhfyXUvI"
      }
    },
    {
      "cell_type": "code",
      "source": [
        "from sklearn.metrics import confusion_matrix\n",
        "\n",
        "y_pred = GB.predict(X_test)\n",
        "\n",
        "sm = confusion_matrix(y_test, y_pred)\n",
        "sm"
      ],
      "metadata": {
        "id": "axEc7nxZVdtT",
        "colab": {
          "base_uri": "https://localhost:8080/"
        },
        "outputId": "9eb32ed9-5a87-41ee-b462-3ed376f8571a"
      },
      "execution_count": 37,
      "outputs": [
        {
          "output_type": "execute_result",
          "data": {
            "text/plain": [
              "array([[11,  0,  0],\n",
              "       [ 1, 11,  0],\n",
              "       [ 0,  0, 13]])"
            ]
          },
          "metadata": {},
          "execution_count": 37
        }
      ]
    },
    {
      "cell_type": "markdown",
      "source": [
        "\n",
        "\n",
        "---\n",
        "\n"
      ],
      "metadata": {
        "id": "wazDXtXzXS58"
      }
    },
    {
      "cell_type": "markdown",
      "source": [
        "**\"\"import seaborn as sns\"\"** imports the seaborn library, which is a data visualization library built on top of matplotlib and provides additional plot styles and functionalities.\n",
        "\n",
        "**\"\"plt.figure(figsize=(7, 5))\"\"** line creates a new figure with a specified size of 7 inches in width and 5 inches in height.\n",
        "\n",
        "**\"\"sns.heatmap(zm, annot=True)\"\"** creates a heatmap using the **heatmap()** function and **zm** represents the confusion matrix which is passed as the data for the heatmap. The **annot=True** displays the values of the matrix within the heatmap cells.\n"
      ],
      "metadata": {
        "id": "sV5p_QQzXSXV"
      }
    },
    {
      "cell_type": "code",
      "source": [
        "%matplotlib inline\n",
        "import matplotlib.pyplot as plt\n",
        "import seaborn as sns\n",
        "\n",
        "plt.figure(figsize=(7, 5))\n",
        "sns.heatmap(cm, annot=True)\n",
        "plt.xlabel('Predicted')\n",
        "plt.ylabel('Truth')"
      ],
      "metadata": {
        "id": "RYCvyWVCXEYF",
        "colab": {
          "base_uri": "https://localhost:8080/",
          "height": 487
        },
        "outputId": "be978b7e-580f-4b6c-a22d-02f1fd60a241"
      },
      "execution_count": 38,
      "outputs": [
        {
          "output_type": "execute_result",
          "data": {
            "text/plain": [
              "Text(58.222222222222214, 0.5, 'Truth')"
            ]
          },
          "metadata": {},
          "execution_count": 38
        },
        {
          "output_type": "display_data",
          "data": {
            "text/plain": [
              "<Figure size 700x500 with 2 Axes>"
            ],
            "image/png": "[encoded data removed]"
          },
          "metadata": {}
        }
      ]
    },
    {
      "cell_type": "markdown",
      "source": [
        "\n",
        "\n",
        "---\n",
        "\n"
      ],
      "metadata": {
        "id": "k1-JFzXwXGC9"
      }
    },
    {
      "cell_type": "markdown",
      "source": [
        "**\"\"from sklearn.metrics import classification_report\"\"** imports the **classification_report** function from the **sklearn.metrics** module.\n",
        "\n",
        "**classification_report()** function generates a report that includes metrics;\n",
        " \n",
        "1. precision\n",
        "2. recall \n",
        "3. F1-score\n",
        "4. support \n",
        "\n",
        "for each class."
      ],
      "metadata": {
        "id": "pIxKBMUvXNrF"
      }
    },
    {
      "cell_type": "code",
      "source": [
        "from sklearn.metrics import classification_report\n",
        "\n",
        "print(classification_report(y_test, y_pred))"
      ],
      "metadata": {
        "id": "tYLaxaTxXKAA",
        "colab": {
          "base_uri": "https://localhost:8080/"
        },
        "outputId": "943a6e08-66bf-4642-fa18-2bddf942e405"
      },
      "execution_count": 39,
      "outputs": [
        {
          "output_type": "stream",
          "name": "stdout",
          "text": [
            "              precision    recall  f1-score   support\n",
            "\n",
            "           0       0.92      1.00      0.96        11\n",
            "           1       1.00      0.92      0.96        12\n",
            "           2       1.00      1.00      1.00        13\n",
            "\n",
            "    accuracy                           0.97        36\n",
            "   macro avg       0.97      0.97      0.97        36\n",
            "weighted avg       0.97      0.97      0.97        36\n",
            "\n"
          ]
        }
      ]
    },
    {
      "cell_type": "markdown",
      "source": [
        "\n",
        "\n",
        "---\n",
        "\n"
      ],
      "metadata": {
        "id": "aztHNi1EXQZR"
      }
    }
  ]
}